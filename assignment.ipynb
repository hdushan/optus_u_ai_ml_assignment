{
  "nbformat": 4,
  "nbformat_minor": 0,
  "metadata": {
    "colab": {
      "name": "hans_assessment_3.ipynb",
      "provenance": [],
      "collapsed_sections": []
    },
    "kernelspec": {
      "name": "python3",
      "display_name": "Python 3"
    },
    "language_info": {
      "name": "python"
    }
  },
  "cells": [
    {
      "cell_type": "markdown",
      "source": [
        "# Assessment 3:\n",
        "\n",
        "This notebook builds a prediction model that predicts whether or not a customer who is a target of a campaign is likely to purchase a Term deposit.\n",
        "\n",
        "As the output is a Yes or No prediction of whether they'll purchase or not, this is a Categorical Prediction problem, with 2 classes - Yes or No.\n",
        "\n",
        "Ths notebook will illustrate the 16 phases of the AI lifecycle to build this predictor."
      ],
      "metadata": {
        "id": "PoBnteX7yBrI"
      }
    },
    {
      "cell_type": "markdown",
      "source": [
        "# Importing the necessary Python libraries"
      ],
      "metadata": {
        "id": "cBvCASTj0pzs"
      }
    },
    {
      "cell_type": "code",
      "execution_count": null,
      "metadata": {
        "id": "7nvKGCEPxpdA"
      },
      "outputs": [],
      "source": [
        ""
      ]
    }
  ]
}